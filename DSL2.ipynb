{
  "nbformat": 4,
  "nbformat_minor": 0,
  "metadata": {
    "colab": {
      "provenance": [],
      "authorship_tag": "ABX9TyM78lNifHgZKrWAq/lfJFE/",
      "include_colab_link": true
    },
    "kernelspec": {
      "name": "python3",
      "display_name": "Python 3"
    },
    "language_info": {
      "name": "python"
    }
  },
  "cells": [
    {
      "cell_type": "markdown",
      "metadata": {
        "id": "view-in-github",
        "colab_type": "text"
      },
      "source": [
        "<a href=\"https://colab.research.google.com/github/keshavchandel13/DAA-lab/blob/main/DSL2.ipynb\" target=\"_parent\"><img src=\"https://colab.research.google.com/assets/colab-badge.svg\" alt=\"Open In Colab\"/></a>"
      ]
    },
    {
      "cell_type": "code",
      "source": [
        "pip install simpy"
      ],
      "metadata": {
        "colab": {
          "base_uri": "https://localhost:8080/"
        },
        "id": "7mOAIhay32cB",
        "outputId": "2ef58fff-dd08-4d82-fa27-de5e7388b251"
      },
      "execution_count": 2,
      "outputs": [
        {
          "output_type": "stream",
          "name": "stdout",
          "text": [
            "Collecting simpy\n",
            "  Downloading simpy-4.1.1-py3-none-any.whl.metadata (6.1 kB)\n",
            "Downloading simpy-4.1.1-py3-none-any.whl (27 kB)\n",
            "Installing collected packages: simpy\n",
            "Successfully installed simpy-4.1.1\n"
          ]
        }
      ]
    },
    {
      "cell_type": "markdown",
      "source": [
        "# AIM:TO implement the concept of shared resources"
      ],
      "metadata": {
        "id": "mfZPR9Ju9-MU"
      }
    },
    {
      "cell_type": "code",
      "source": [
        "import simpy"
      ],
      "metadata": {
        "id": "cX1OMdxN7Ti2"
      },
      "execution_count": 8,
      "outputs": []
    },
    {
      "cell_type": "code",
      "source": [
        "def car(env, name, bcs, driving_time, charge_time):\n",
        "  yield env.timeout(driving_time)\n",
        "  print(f\"{name} arrived at BCS at time {env.now}\")\n",
        "  with bcs.request() as req:\n",
        "    yield req\n",
        "    print(f\"{name} started charging itself at {env.now}\")\n",
        "    yield env.timeout(charge_time)\n",
        "    print(f\"{name} leaving the bcs at {env.now}\")\n",
        ""
      ],
      "metadata": {
        "id": "mTo-zD0uBU81"
      },
      "execution_count": 15,
      "outputs": []
    },
    {
      "cell_type": "code",
      "source": [
        "env = simpy.Environment()\n",
        "bcs = simpy.Resource(env, capacity=3)\n"
      ],
      "metadata": {
        "id": "f4PRhjDKCs6b"
      },
      "execution_count": 16,
      "outputs": []
    },
    {
      "cell_type": "code",
      "source": [
        "for i in range(6):\n",
        "  env.process(car(env, f\"car_{i}\", bcs, i*2, 90))"
      ],
      "metadata": {
        "id": "h4-RTIKBC_mN"
      },
      "execution_count": 17,
      "outputs": []
    },
    {
      "cell_type": "code",
      "source": [
        "env.run()"
      ],
      "metadata": {
        "colab": {
          "base_uri": "https://localhost:8080/"
        },
        "id": "-lSTeOauD6vy",
        "outputId": "8edac064-0421-42a4-db7f-96058a7ef96e"
      },
      "execution_count": 18,
      "outputs": [
        {
          "output_type": "stream",
          "name": "stdout",
          "text": [
            "car_0 arrived at BCS at time 0\n",
            "car_0 started charging itself at 0\n",
            "car_1 arrived at BCS at time 2\n",
            "car_1 started charging itself at 2\n",
            "car_2 arrived at BCS at time 4\n",
            "car_2 started charging itself at 4\n",
            "car_3 arrived at BCS at time 6\n",
            "car_4 arrived at BCS at time 8\n",
            "car_5 arrived at BCS at time 10\n",
            "car_0 leaving the bcs at 90\n",
            "car_3 started charging itself at 90\n",
            "car_1 leaving the bcs at 92\n",
            "car_4 started charging itself at 92\n",
            "car_2 leaving the bcs at 94\n",
            "car_5 started charging itself at 94\n",
            "car_3 leaving the bcs at 180\n",
            "car_4 leaving the bcs at 182\n",
            "car_5 leaving the bcs at 184\n"
          ]
        }
      ]
    }
  ]
}