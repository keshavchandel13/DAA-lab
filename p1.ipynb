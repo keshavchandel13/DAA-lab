{
  "nbformat": 4,
  "nbformat_minor": 0,
  "metadata": {
    "colab": {
      "provenance": [],
      "authorship_tag": "ABX9TyOoNvVQMDplgF7gZ7iI5HMX",
      "include_colab_link": true
    },
    "kernelspec": {
      "name": "python3",
      "display_name": "Python 3"
    },
    "language_info": {
      "name": "python"
    }
  },
  "cells": [
    {
      "cell_type": "markdown",
      "metadata": {
        "id": "view-in-github",
        "colab_type": "text"
      },
      "source": [
        "<a href=\"https://colab.research.google.com/github/keshavchandel13/DAA-lab/blob/main/p1.ipynb\" target=\"_parent\"><img src=\"https://colab.research.google.com/assets/colab-badge.svg\" alt=\"Open In Colab\"/></a>"
      ]
    },
    {
      "cell_type": "code",
      "execution_count": null,
      "metadata": {
        "colab": {
          "base_uri": "https://localhost:8080/"
        },
        "id": "wG6AzhmSa217",
        "outputId": "1d7d4d7f-d3c9-4312-9fdb-3645d23fd439"
      },
      "outputs": [
        {
          "output_type": "stream",
          "name": "stdout",
          "text": [
            "The sum is:  6\n",
            "The sub is:  2\n",
            "The multi is:  8\n",
            "The divide is:  2.0\n"
          ]
        }
      ],
      "source": [
        "def calc(a,b):\n",
        "  yield print(\"The sum is: \",a+b)\n",
        "  yield print(\"The sub is: \",a-b)\n",
        "  yield print(\"The multi is: \",a*b)\n",
        "  yield print(\"The divide is: \",a/b)\n",
        "x =  calc(4,2)\n",
        "for i in x:\n",
        "  pass"
      ]
    },
    {
      "cell_type": "code",
      "source": [
        "def gen(lst):\n",
        "  for i in lst:\n",
        "    yield i\n",
        "lst = [1,2,3]\n",
        "sq = [i**2 for i in lst]\n",
        "res = gen(sq)\n",
        "for i in res:\n",
        "  print(i)"
      ],
      "metadata": {
        "colab": {
          "base_uri": "https://localhost:8080/"
        },
        "id": "C7ef8GAIeDKU",
        "outputId": "6b9d49de-c7be-4338-ec1b-1c745c70039d"
      },
      "execution_count": null,
      "outputs": [
        {
          "output_type": "stream",
          "name": "stdout",
          "text": [
            "1\n",
            "4\n",
            "9\n"
          ]
        }
      ]
    },
    {
      "cell_type": "code",
      "source": [
        "pip install simpy"
      ],
      "metadata": {
        "colab": {
          "base_uri": "https://localhost:8080/"
        },
        "id": "4Pc9DPEvecHD",
        "outputId": "c093f9fa-a42e-41c1-c636-a3e0d5de7504"
      },
      "execution_count": 1,
      "outputs": [
        {
          "output_type": "stream",
          "name": "stdout",
          "text": [
            "Collecting simpy\n",
            "  Downloading simpy-4.1.1-py3-none-any.whl.metadata (6.1 kB)\n",
            "Downloading simpy-4.1.1-py3-none-any.whl (27 kB)\n",
            "Installing collected packages: simpy\n",
            "Successfully installed simpy-4.1.1\n"
          ]
        }
      ]
    },
    {
      "cell_type": "markdown",
      "source": [
        "# write a program in simpy to simulate the realtime process using a car, where the car is alternatively driving and parking for the specified duration of time"
      ],
      "metadata": {
        "id": "I4dxRvl2fui7"
      }
    },
    {
      "cell_type": "code",
      "source": [
        "def Car(env):\n",
        "  while(True):\n",
        "    print(\"The car is at parking, Time is: \",env.now)\n",
        "    parking_time = 3 # Parking time is fixed here\n",
        "    yield env.timeout(parking_time) # The car will be out of the parking after the fixed time\n",
        "\n",
        "    print(\"The car is driving, Time is: \", env.now)\n",
        "    driving_time = 5\n",
        "    yield env.timeout(driving_time)"
      ],
      "metadata": {
        "id": "hh9-N7pcfj7H"
      },
      "execution_count": null,
      "outputs": []
    },
    {
      "cell_type": "code",
      "source": [
        "import simpy\n",
        "# Creating simpy environment\n",
        "env = simpy.Environment()\n",
        "env.process(Car(env))\n",
        "env.run(until=25)"
      ],
      "metadata": {
        "colab": {
          "base_uri": "https://localhost:8080/"
        },
        "id": "arAaflhIh-Qw",
        "outputId": "60a1e4f9-d8c2-4510-9705-4ba17a6ece91"
      },
      "execution_count": null,
      "outputs": [
        {
          "output_type": "stream",
          "name": "stdout",
          "text": [
            "The car is at parking, Time is:  0\n",
            "The car is driving, Time is:  3\n",
            "The car is at parking, Time is:  8\n",
            "The car is driving, Time is:  11\n",
            "The car is at parking, Time is:  16\n",
            "The car is driving, Time is:  19\n",
            "The car is at parking, Time is:  24\n"
          ]
        }
      ]
    },
    {
      "cell_type": "markdown",
      "source": [
        "# Process Interaction"
      ],
      "metadata": {
        "id": "KdA90StjspLr"
      }
    },
    {
      "cell_type": "code",
      "source": [
        "class Car:\n",
        "  def __init__(self, env):\n",
        "    self.env = env\n",
        "    self.action = env.process(self.drive())\n",
        "  def drive(self):\n",
        "    while(True):\n",
        "      # The car is parking\n",
        "      print(\"The car is Parking and charging, Time: \",env.now)\n",
        "      parking_time = 5 # Charging time for the car while its parking\n",
        "      yield self.env.process(self.charge(parking_time))\n",
        "      # The car is driving\n",
        "      print(\"The car is driving, time: \",env.now)\n",
        "      driving_time = 10\n",
        "      yield env.timeout(driving_time)\n",
        "  def charge(self, charging_time):\n",
        "    yield self.env.timeout(charging_time)"
      ],
      "metadata": {
        "id": "dgv9m-V5sq7g"
      },
      "execution_count": null,
      "outputs": []
    },
    {
      "cell_type": "code",
      "source": [
        "import simpy\n",
        "env = simpy.Environment()\n",
        "a = Car(env)\n",
        "env.run(until=55)"
      ],
      "metadata": {
        "colab": {
          "base_uri": "https://localhost:8080/"
        },
        "id": "9WxcBPUusrqX",
        "outputId": "96641b77-25cb-4952-e03d-989abf567737"
      },
      "execution_count": null,
      "outputs": [
        {
          "output_type": "stream",
          "name": "stdout",
          "text": [
            "The car is Parking, Time:  0\n",
            "The car is driving, time:  5\n",
            "The car is Parking, Time:  15\n",
            "The car is driving, time:  20\n",
            "The car is Parking, Time:  30\n",
            "The car is driving, time:  35\n",
            "The car is Parking, Time:  45\n",
            "The car is driving, time:  50\n"
          ]
        }
      ]
    },
    {
      "cell_type": "markdown",
      "source": [
        "# Process Interaction through interuption"
      ],
      "metadata": {
        "id": "HJtmQMPixu2i"
      }
    },
    {
      "cell_type": "code",
      "source": [
        "def driver_arrived(env, car):\n",
        "  yield env.timeout(2)\n",
        "  car.action.interrupt()\n",
        "class Car:\n",
        "  def __init__(self, env):\n",
        "    self.env = env\n",
        "    self.action = self.env.process(self.drive())\n",
        "  def drive(self):\n",
        "    while(True):\n",
        "      print(\"The car is parking and charging, Time: \",env.now)\n",
        "      parking_time = 7\n",
        "      try:\n",
        "        yield self.env.process(self.charge(parking_time))\n",
        "      except simpy.Interrupt:\n",
        "        print(\"Driver Sahab A chuke hai chalo\")\n",
        "      print(\"The car is driving, Time: \", env.now)\n",
        "      driving_time = 5\n",
        "      yield env.timeout(driving_time)\n",
        "  def charge(self, charging_time):\n",
        "    yield env.timeout(charging_time)"
      ],
      "metadata": {
        "id": "AkptVpbVxwMA"
      },
      "execution_count": null,
      "outputs": []
    },
    {
      "cell_type": "code",
      "source": [
        "import simpy\n",
        "env = simpy.Environment()\n",
        "car = Car(env)\n",
        "env.process(driver_arrived(env,car))\n",
        "env.run(until=55)"
      ],
      "metadata": {
        "colab": {
          "base_uri": "https://localhost:8080/"
        },
        "id": "PUAK1mOxxwjd",
        "outputId": "cabd4edb-c7f4-43dd-f8e1-9e95bcb4f334"
      },
      "execution_count": null,
      "outputs": [
        {
          "output_type": "stream",
          "name": "stdout",
          "text": [
            "The car is parking and charging, Time:  0\n",
            "Driver Sahab A chuke hai chalo\n",
            "The car is driving, Time:  2\n",
            "The car is parking and charging, Time:  7\n",
            "The car is driving, Time:  14\n",
            "The car is parking and charging, Time:  19\n",
            "The car is driving, Time:  26\n",
            "The car is parking and charging, Time:  31\n",
            "The car is driving, Time:  38\n",
            "The car is parking and charging, Time:  43\n",
            "The car is driving, Time:  50\n"
          ]
        }
      ]
    },
    {
      "cell_type": "markdown",
      "source": [
        "# TO implement the concept of shared resources"
      ],
      "metadata": {
        "id": "-qCBPz9kp7QN"
      }
    },
    {
      "cell_type": "code",
      "source": [
        "def car(env,bcs, name,driving_time,parking_time):\n",
        "  yield env.timeout(driving_time)\n",
        "  # print(f\"{name} is driving at time {env.now}\")\n",
        "  print(f\"{name} The car reached at bcs at {env.now}\")\n",
        "  with bcs.request() as req:\n",
        "    yield req\n",
        "    print(f\"{name} The car is parking and charging at {env.now}\")\n",
        "    yield env.timeout(parking_time)\n",
        "    print(f\"{name} The car leaved the bcs station at {env.now}\")\n"
      ],
      "metadata": {
        "id": "-1zyXuy8p74n"
      },
      "execution_count": null,
      "outputs": []
    },
    {
      "cell_type": "code",
      "source": [
        "import simpy\n",
        "env = simpy.Environment()\n",
        "bcs = simpy.Resource(env, capacity=3)"
      ],
      "metadata": {
        "id": "NuhLEXU5p9Dv"
      },
      "execution_count": null,
      "outputs": []
    },
    {
      "cell_type": "code",
      "source": [
        "for i in range(6):\n",
        "  env.process(car(env,bcs,f'Car_{i}',i*2,10))"
      ],
      "metadata": {
        "id": "bkHvUz1ht3-F"
      },
      "execution_count": null,
      "outputs": []
    },
    {
      "cell_type": "code",
      "source": [
        "env.run()"
      ],
      "metadata": {
        "colab": {
          "base_uri": "https://localhost:8080/"
        },
        "id": "gLtTtVjZt7LO",
        "outputId": "172f4b36-0394-486e-ffbf-8c44207c5530"
      },
      "execution_count": null,
      "outputs": [
        {
          "output_type": "stream",
          "name": "stdout",
          "text": [
            "Car_0 The car reached at bcs at 0\n",
            "Car_0 The car is parking and charging at 0\n",
            "Car_1 The car reached at bcs at 2\n",
            "Car_1 The car is parking and charging at 2\n",
            "Car_2 The car reached at bcs at 4\n",
            "Car_2 The car is parking and charging at 4\n",
            "Car_3 The car reached at bcs at 6\n",
            "Car_4 The car reached at bcs at 8\n",
            "Car_5 The car reached at bcs at 10\n",
            "Car_0 The car leaved the bcs station at 10\n",
            "Car_3 The car is parking and charging at 10\n",
            "Car_1 The car leaved the bcs station at 12\n",
            "Car_4 The car is parking and charging at 12\n",
            "Car_2 The car leaved the bcs station at 14\n",
            "Car_5 The car is parking and charging at 14\n",
            "Car_3 The car leaved the bcs station at 20\n",
            "Car_4 The car leaved the bcs station at 22\n",
            "Car_5 The car leaved the bcs station at 24\n"
          ]
        }
      ]
    },
    {
      "cell_type": "markdown",
      "source": [
        "# To simulate Priorities in simpy"
      ],
      "metadata": {
        "id": "z8mEHL4sGg3v"
      }
    },
    {
      "cell_type": "code",
      "source": [
        "def resource_user(name,env,resource,wait,prio):\n",
        "  yield env.timeout(wait)\n",
        "  with resource.request(priority=prio) as req:\n",
        "    print(f\"Car_{name} requested resource at {env.now}\")\n",
        "    yield req\n",
        "    print(f\"Car{name}got resource at {env.now}\")\n",
        "    yield env.timeout(4)\n"
      ],
      "metadata": {
        "id": "KvRRl3yYGisA"
      },
      "execution_count": null,
      "outputs": []
    },
    {
      "cell_type": "code",
      "source": [
        "import simpy\n",
        "env = simpy.Environment()\n",
        "res = simpy.PriorityResource(env, capacity=1)\n",
        "p1 = env.process(resource_user(1, env, res, wait=4, prio=-5))\n",
        "p2 = env.process(resource_user(2, env, res, wait=3, prio=-1))\n",
        "p3 = env.process(resource_user(3, env, res, wait=2, prio=1))\n",
        "p4 = env.process(resource_user(4, env, res, wait=1, prio=3))\n",
        "env.run()"
      ],
      "metadata": {
        "colab": {
          "base_uri": "https://localhost:8080/"
        },
        "id": "zQdnEDEaKSzF",
        "outputId": "c5fbe88a-cb6e-4b73-98bf-bacb66399df4"
      },
      "execution_count": null,
      "outputs": [
        {
          "output_type": "stream",
          "name": "stdout",
          "text": [
            "Car_4 requested resource at 1\n",
            "Car4got resource at 1\n",
            "Car_3 requested resource at 2\n",
            "Car_2 requested resource at 3\n",
            "Car_1 requested resource at 4\n",
            "Car1got resource at 5\n",
            "Car2got resource at 9\n",
            "Car3got resource at 13\n"
          ]
        }
      ]
    },
    {
      "cell_type": "markdown",
      "source": [
        "# question 1"
      ],
      "metadata": {
        "id": "7XF40E6tvMSR"
      }
    },
    {
      "cell_type": "code",
      "source": [
        "def interrupt(env,car):\n",
        "  yield env.timeout(2)\n",
        "  car.action.interrupt()\n",
        "class Car:\n",
        "  def __init__(self,env,res,name):\n",
        "    self.env = env\n",
        "    self.res = res\n",
        "    self.name = name\n",
        "    self.action = env.process(self.drive())\n",
        "  def drive(self):\n",
        "    while(True):\n",
        "      print(f\"{self.name} arrived at washing station at: {env.now}\")\n",
        "      registration_time = 2\n",
        "      print(f\"{self.name} registering at washing station at: {env.now}\")\n",
        "      yield env.timeout(registration_time)\n",
        "      try:\n",
        "        with self.res.request() as req:\n",
        "          yield req\n",
        "          if(self.name == \"Car_2\"):\n",
        "            self.env.process(interrupt(self.env,self))\n",
        "          yield self.env.process(self.washing())\n",
        "      except simpy.Interrupt:\n",
        "        print(f\"{self.name} was interrupted at {self.env.now}\")\n",
        "      yield self.env.process(self.leave())\n",
        "      break\n",
        "  def washing(self):\n",
        "    print(f\"The {self.name} is washing at {self.env.now}\")\n",
        "    yield env.timeout(10)\n",
        "  def leave(self):\n",
        "    print(f\"The {self.name} is leaving the deck at {self.env.now}\")\n",
        "    yield env.timeout(1)"
      ],
      "metadata": {
        "id": "z8Kkf5QSvlmA"
      },
      "execution_count": 17,
      "outputs": []
    },
    {
      "cell_type": "code",
      "source": [
        "import simpy\n",
        "env = simpy.Environment()\n",
        "res = simpy.Resource(env, capacity=3)\n",
        "for i in range(10):\n",
        "  Car(env,res,f\"Car_{i+1}\")"
      ],
      "metadata": {
        "id": "0q9kMQffvnQn"
      },
      "execution_count": 18,
      "outputs": []
    },
    {
      "cell_type": "code",
      "source": [
        "env.run()"
      ],
      "metadata": {
        "colab": {
          "base_uri": "https://localhost:8080/"
        },
        "id": "0bGIYSmawjUu",
        "outputId": "f1afa84f-12fa-4307-febe-88fef8bf4664"
      },
      "execution_count": 19,
      "outputs": [
        {
          "output_type": "stream",
          "name": "stdout",
          "text": [
            "Car_1 arrived at washing station at: 0\n",
            "Car_1 registering at washing station at: 0\n",
            "Car_2 arrived at washing station at: 0\n",
            "Car_2 registering at washing station at: 0\n",
            "Car_3 arrived at washing station at: 0\n",
            "Car_3 registering at washing station at: 0\n",
            "Car_4 arrived at washing station at: 0\n",
            "Car_4 registering at washing station at: 0\n",
            "Car_5 arrived at washing station at: 0\n",
            "Car_5 registering at washing station at: 0\n",
            "Car_6 arrived at washing station at: 0\n",
            "Car_6 registering at washing station at: 0\n",
            "Car_7 arrived at washing station at: 0\n",
            "Car_7 registering at washing station at: 0\n",
            "Car_8 arrived at washing station at: 0\n",
            "Car_8 registering at washing station at: 0\n",
            "Car_9 arrived at washing station at: 0\n",
            "Car_9 registering at washing station at: 0\n",
            "Car_10 arrived at washing station at: 0\n",
            "Car_10 registering at washing station at: 0\n",
            "The Car_1 is washing at 2\n",
            "The Car_2 is washing at 2\n",
            "The Car_3 is washing at 2\n",
            "Car_2 was interrupted at 4\n",
            "The Car_2 is leaving the deck at 4\n",
            "The Car_4 is washing at 4\n",
            "The Car_1 is leaving the deck at 12\n",
            "The Car_3 is leaving the deck at 12\n",
            "The Car_5 is washing at 12\n",
            "The Car_6 is washing at 12\n",
            "The Car_4 is leaving the deck at 14\n",
            "The Car_7 is washing at 14\n",
            "The Car_5 is leaving the deck at 22\n",
            "The Car_6 is leaving the deck at 22\n",
            "The Car_8 is washing at 22\n",
            "The Car_9 is washing at 22\n",
            "The Car_7 is leaving the deck at 24\n",
            "The Car_10 is washing at 24\n",
            "The Car_8 is leaving the deck at 32\n",
            "The Car_9 is leaving the deck at 32\n",
            "The Car_10 is leaving the deck at 34\n"
          ]
        }
      ]
    },
    {
      "cell_type": "markdown",
      "source": [
        "# question 2"
      ],
      "metadata": {
        "id": "Mc98TQjz58rT"
      }
    },
    {
      "cell_type": "code",
      "source": [
        "def interrupt(env,bill):\n",
        "  yield env.timeout(0)\n",
        "  bill.action.interrupt()\n",
        "class biling:\n",
        "  def __init__(self,env,res,name):\n",
        "    self.env = env\n",
        "    self.res = res\n",
        "    self.name = name\n",
        "    self.action = env.process(self.bill())\n",
        "  def bill(self):\n",
        "    unload_time = 2\n",
        "    self.env.timeout(unload_time)\n",
        "    try:\n",
        "      with self.res.request() as req:\n",
        "        yield req\n",
        "        if self.name == \"Customer_3\":\n",
        "          self.env.process(interrupt(self.env,self))\n",
        "        yield self.env.process(self.start_biling())\n",
        "\n",
        "    except simpy.Interrupt:\n",
        "      print(f\"{self.name} interupted at {self.env.now}\")\n",
        "    yield self.env.process(self.leaving())\n",
        "  def start_biling(self):\n",
        "    print(f\"{self.name} biling started at {self.env.now}\")\n",
        "    yield self.env.timeout(10)\n",
        "  def  leaving(self):\n",
        "    print(f\"{self.name} leaved at {self.env.now}\")\n",
        "    yield self.env.timeout(3)"
      ],
      "metadata": {
        "id": "9i9MopSg5_LE"
      },
      "execution_count": 32,
      "outputs": []
    },
    {
      "cell_type": "code",
      "source": [
        "import simpy\n",
        "env = simpy.Environment()\n",
        "res = simpy.Resource(env, capacity=4)\n",
        "for i in range(10):\n",
        "  biling(env,res,f\"Customer_{i+1}\")\n"
      ],
      "metadata": {
        "id": "LWMO-v3a5_rK"
      },
      "execution_count": 33,
      "outputs": []
    },
    {
      "cell_type": "code",
      "source": [
        "env.run()"
      ],
      "metadata": {
        "colab": {
          "base_uri": "https://localhost:8080/"
        },
        "id": "P9jyopzy6AEx",
        "outputId": "96a3b3fc-e9b9-416c-c548-274bb74fe8cc"
      },
      "execution_count": 34,
      "outputs": [
        {
          "output_type": "stream",
          "name": "stdout",
          "text": [
            "Customer_1 biling started at 0\n",
            "Customer_2 biling started at 0\n",
            "Customer_3 biling started at 0\n",
            "Customer_4 biling started at 0\n",
            "Customer_3 interupted at 0\n",
            "Customer_3 leaved at 0\n",
            "Customer_5 biling started at 0\n",
            "Customer_1 leaved at 10\n",
            "Customer_2 leaved at 10\n",
            "Customer_4 leaved at 10\n",
            "Customer_5 leaved at 10\n",
            "Customer_6 biling started at 10\n",
            "Customer_7 biling started at 10\n",
            "Customer_8 biling started at 10\n",
            "Customer_9 biling started at 10\n",
            "Customer_6 leaved at 20\n",
            "Customer_7 leaved at 20\n",
            "Customer_8 leaved at 20\n",
            "Customer_9 leaved at 20\n",
            "Customer_10 biling started at 20\n",
            "Customer_10 leaved at 30\n"
          ]
        }
      ]
    }
  ]
}